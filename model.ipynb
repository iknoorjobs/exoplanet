{
  "nbformat": 4,
  "nbformat_minor": 0,
  "metadata": {
    "colab": {
      "name": "model.ipynb",
      "version": "0.3.2",
      "provenance": []
    },
    "kernelspec": {
      "name": "python3",
      "display_name": "Python 3"
    }
  },
  "cells": [
    {
      "metadata": {
        "id": "8wTLF56U0aes",
        "colab_type": "code",
        "colab": {
          "base_uri": "https://localhost:8080/",
          "height": 71
        },
        "outputId": "94009be8-4a60-42ee-95ff-e7250c2db881"
      },
      "cell_type": "code",
      "source": [
        "import pandas as pd\n",
        "import numpy as np\n",
        "import matplotlib.pyplot as plt\n",
        "import math\n",
        "import time\n",
        "from scipy import ndimage, fft\n",
        "from pathlib import Path\n",
        "from sklearn import cross_validation\n",
        "from sklearn.metrics import classification_report\n",
        "from sklearn.utils import shuffle\n",
        "from sklearn.metrics import accuracy_score, precision_score, recall_score, confusion_matrix\n",
        "from sklearn.preprocessing import normalize, StandardScaler, MinMaxScaler"
      ],
      "execution_count": 1,
      "outputs": [
        {
          "output_type": "stream",
          "text": [
            "/usr/local/lib/python3.6/dist-packages/sklearn/cross_validation.py:41: DeprecationWarning: This module was deprecated in version 0.18 in favor of the model_selection module into which all the refactored classes and functions are moved. Also note that the interface of the new CV iterators are different from that of this module. This module will be removed in 0.20.\n",
            "  \"This module will be removed in 0.20.\", DeprecationWarning)\n"
          ],
          "name": "stderr"
        }
      ]
    },
    {
      "metadata": {
        "id": "mHbja-apNOwv",
        "colab_type": "code",
        "colab": {}
      },
      "cell_type": "code",
      "source": [
        "from sklearn.svm import LinearSVC"
      ],
      "execution_count": 0,
      "outputs": []
    },
    {
      "metadata": {
        "id": "7QJey1776PDk",
        "colab_type": "code",
        "colab": {}
      },
      "cell_type": "code",
      "source": [
        "df_train = pd.read_csv('exoTrain.csv', encoding = \"ISO-8859-1\")\n",
        "df_dev = pd.read_csv('exoTest.csv', encoding = \"ISO-8859-1\")"
      ],
      "execution_count": 0,
      "outputs": []
    },
    {
      "metadata": {
        "id": "hLAT7f83BKX9",
        "colab_type": "code",
        "colab": {
          "base_uri": "https://localhost:8080/",
          "height": 34
        },
        "outputId": "3b6d0933-ab05-48e2-b677-f869964d3bde"
      },
      "cell_type": "code",
      "source": [
        "df_train.shape"
      ],
      "execution_count": 4,
      "outputs": [
        {
          "output_type": "execute_result",
          "data": {
            "text/plain": [
              "(5087, 3198)"
            ]
          },
          "metadata": {
            "tags": []
          },
          "execution_count": 4
        }
      ]
    },
    {
      "metadata": {
        "id": "2LlxzJSFCwuT",
        "colab_type": "code",
        "colab": {}
      },
      "cell_type": "code",
      "source": [
        "df_train_x = df_train.drop('LABEL', axis=1)\n",
        "df_train_y = df_train.LABEL\n",
        "df_dev_x = df_dev.drop('LABEL', axis=1)\n",
        "df_dev_y = df_dev.LABEL"
      ],
      "execution_count": 0,
      "outputs": []
    },
    {
      "metadata": {
        "id": "LyCWXA3GC4y0",
        "colab_type": "code",
        "colab": {}
      },
      "cell_type": "code",
      "source": [
        "class LightFluxProcessor:\n",
        "\n",
        "    def __init__(self, fourier=True, normalize=True, gaussian=True, standardize=True):\n",
        "        self.fourier = fourier\n",
        "        self.normalize = normalize\n",
        "        self.gaussian = gaussian\n",
        "        self.standardize = standardize\n",
        "\n",
        "    def fourier_transform(self, X):\n",
        "        return np.abs(fft(X, n=X.size))\n",
        "\n",
        "    def process(self, df_train_x, df_dev_x):\n",
        "        # Fourier transform\n",
        "        if self.fourier:\n",
        "            print(\"Applying Fourier...\")\n",
        "            df_train_x = df_train_x.apply(self.fourier_transform,axis=1)\n",
        "            df_dev_x = df_dev_x.apply(self.fourier_transform,axis=1)\n",
        "\n",
        "            \n",
        "            df_train_x = df_train_x.iloc[:,:(df_train_x.shape[1]//2)].values\n",
        "            df_dev_x = df_dev_x.iloc[:,:(df_dev_x.shape[1]//2)].values\n",
        "\n",
        "        # Normalize\n",
        "        if self.normalize:\n",
        "            print(\"Normalizing...\")\n",
        "            df_train_x = pd.DataFrame(normalize(df_train_x))\n",
        "            df_dev_x = pd.DataFrame(normalize(df_dev_x))\n",
        "\n",
        "        # Gaussian filter to smooth out data\n",
        "        if self.gaussian:\n",
        "            print(\"Applying Gaussian Filter...\")\n",
        "            df_train_x = ndimage.filters.gaussian_filter(df_train_x, sigma=10)\n",
        "            df_dev_x = ndimage.filters.gaussian_filter(df_dev_x, sigma=10)\n",
        "\n",
        "        if self.standardize:\n",
        "            # Standardize X data\n",
        "            print(\"Standardizing...\")\n",
        "            std_scaler = StandardScaler()\n",
        "            df_train_x = std_scaler.fit_transform(df_train_x)\n",
        "            df_dev_x = std_scaler.transform(df_dev_x)\n",
        "\n",
        "        print(\"Finished Processing!\")\n",
        "        return df_train_x, df_dev_x\n"
      ],
      "execution_count": 0,
      "outputs": []
    },
    {
      "metadata": {
        "id": "FEqZF4WNC680",
        "colab_type": "code",
        "colab": {}
      },
      "cell_type": "code",
      "source": [
        "def np_X_Y_from_df(df):\n",
        "    df = shuffle(df)\n",
        "    df_X = df.drop(['LABEL'], axis=1)\n",
        "    X = np.array(df_X)\n",
        "    Y_raw = np.array(df['LABEL']).reshape((len(df['LABEL']),1))\n",
        "    Y = Y_raw == 2\n",
        "    return X, Y"
      ],
      "execution_count": 0,
      "outputs": []
    },
    {
      "metadata": {
        "id": "VqAX6wvVFTXR",
        "colab_type": "code",
        "colab": {
          "base_uri": "https://localhost:8080/",
          "height": 102
        },
        "outputId": "2f2ced36-2178-4d5a-e968-d614806e99b8"
      },
      "cell_type": "code",
      "source": [
        "LFP = LightFluxProcessor(\n",
        "    fourier=True,\n",
        "    normalize=True,\n",
        "    gaussian=True,\n",
        "    standardize=True)\n",
        "df_train_x, df_dev_x = LFP.process(df_train_x, df_dev_x)"
      ],
      "execution_count": 8,
      "outputs": [
        {
          "output_type": "stream",
          "text": [
            "Applying Fourier...\n",
            "Normalizing...\n",
            "Applying Gaussian Filter...\n",
            "Standardizing...\n",
            "Finished Processing!\n"
          ],
          "name": "stdout"
        }
      ]
    },
    {
      "metadata": {
        "id": "H4doIYAiFWsp",
        "colab_type": "code",
        "colab": {}
      },
      "cell_type": "code",
      "source": [
        "# Rejoin X and Y\n",
        "df_train_processed = pd.DataFrame(df_train_x).join(pd.DataFrame(df_train_y))\n",
        "df_dev_processed = pd.DataFrame(df_dev_x).join(pd.DataFrame(df_dev_y))"
      ],
      "execution_count": 0,
      "outputs": []
    },
    {
      "metadata": {
        "id": "vR0GOeAcFf9n",
        "colab_type": "code",
        "colab": {}
      },
      "cell_type": "code",
      "source": [
        "X_train, Y_train = np_X_Y_from_df(df_train_processed)\n",
        "X_dev, Y_dev = np_X_Y_from_df(df_dev_processed)"
      ],
      "execution_count": 0,
      "outputs": []
    },
    {
      "metadata": {
        "id": "oUVoH7STFjo2",
        "colab_type": "code",
        "colab": {
          "base_uri": "https://localhost:8080/",
          "height": 85
        },
        "outputId": "66f63fae-7380-4cb6-b274-323069aaea16"
      },
      "cell_type": "code",
      "source": [
        "print(\"X_train.shape: \", X_train.shape)\n",
        "print(\"Y_train.shape: \", Y_train.shape)\n",
        "print(\"X_test.shape: \", X_dev.shape)\n",
        "print(\"Y_test.shape: \", Y_dev.shape)"
      ],
      "execution_count": 20,
      "outputs": [
        {
          "output_type": "stream",
          "text": [
            "X_train.shape:  (5087, 1598)\n",
            "Y_train.shape:  (5087, 1)\n",
            "X_test.shape:  (570, 1598)\n",
            "Y_test.shape:  (570, 1)\n"
          ],
          "name": "stdout"
        }
      ]
    },
    {
      "metadata": {
        "id": "9iEN-22OXhhG",
        "colab_type": "code",
        "colab": {
          "base_uri": "https://localhost:8080/",
          "height": 292
        },
        "outputId": "f6f99751-a5f8-43da-ad00-93e4b909879e"
      },
      "cell_type": "code",
      "source": [
        "!pip install -U imblearn"
      ],
      "execution_count": 23,
      "outputs": [
        {
          "output_type": "stream",
          "text": [
            "Collecting imblearn\n",
            "  Downloading https://files.pythonhosted.org/packages/81/a7/4179e6ebfd654bd0eac0b9c06125b8b4c96a9d0a8ff9e9507eb2a26d2d7e/imblearn-0.0-py2.py3-none-any.whl\n",
            "Collecting imbalanced-learn (from imblearn)\n",
            "\u001b[?25l  Downloading https://files.pythonhosted.org/packages/c5/ea/f027ceb21114abe8189a2804640b2d5dd49a7a271c4814695482c5bc94d8/imbalanced_learn-0.4.2-py3-none-any.whl (166kB)\n",
            "\u001b[K    100% |████████████████████████████████| 174kB 7.0MB/s \n",
            "\u001b[?25hCollecting scikit-learn>=0.20 (from imbalanced-learn->imblearn)\n",
            "\u001b[?25l  Downloading https://files.pythonhosted.org/packages/0c/b2/05be9b6da9ae4a4c54f537be22e95833f722742a02b1e355fdc09363877c/scikit_learn-0.20.0-cp36-cp36m-manylinux1_x86_64.whl (5.3MB)\n",
            "\u001b[K    100% |████████████████████████████████| 5.3MB 7.5MB/s \n",
            "\u001b[?25hRequirement already satisfied, skipping upgrade: scipy>=0.13.3 in /usr/local/lib/python3.6/dist-packages (from imbalanced-learn->imblearn) (0.19.1)\n",
            "Requirement already satisfied, skipping upgrade: numpy>=1.8.2 in /usr/local/lib/python3.6/dist-packages (from imbalanced-learn->imblearn) (1.14.6)\n",
            "Installing collected packages: scikit-learn, imbalanced-learn, imblearn\n",
            "  Found existing installation: scikit-learn 0.19.2\n",
            "    Uninstalling scikit-learn-0.19.2:\n",
            "      Successfully uninstalled scikit-learn-0.19.2\n",
            "Successfully installed imbalanced-learn-0.4.2 imblearn-0.0 scikit-learn-0.20.0\n"
          ],
          "name": "stdout"
        }
      ]
    },
    {
      "metadata": {
        "id": "aRveEfsCXXfB",
        "colab_type": "code",
        "colab": {}
      },
      "cell_type": "code",
      "source": [
        "from imblearn.over_sampling import SMOTE"
      ],
      "execution_count": 0,
      "outputs": []
    },
    {
      "metadata": {
        "id": "u5RdpMrEG0-l",
        "colab_type": "code",
        "colab": {
          "base_uri": "https://localhost:8080/",
          "height": 139
        },
        "outputId": "9611a5e8-badd-4329-f95a-9a4343705c39"
      },
      "cell_type": "code",
      "source": [
        "model = LinearSVC()\n",
        "X_train_sm, Y_train_sm = X_train, Y_train\n",
        "\n",
        "# Train\n",
        "print(\"Training...\")\n",
        "model.fit(X_train_sm, Y_train_sm)\n",
        "\n",
        "train_outputs = model.predict(X_train_sm)\n",
        "dev_outputs = model.predict(X_dev)\n",
        "print(\"Finished Training!\")"
      ],
      "execution_count": 25,
      "outputs": [
        {
          "output_type": "stream",
          "text": [
            "/usr/local/lib/python3.6/dist-packages/sklearn/utils/validation.py:578: DataConversionWarning: A column-vector y was passed when a 1d array was expected. Please change the shape of y to (n_samples, ), for example using ravel().\n",
            "  y = column_or_1d(y, warn=True)\n"
          ],
          "name": "stderr"
        },
        {
          "output_type": "stream",
          "text": [
            "Training...\n"
          ],
          "name": "stdout"
        },
        {
          "output_type": "stream",
          "text": [
            "/usr/local/lib/python3.6/dist-packages/sklearn/utils/validation.py:578: DataConversionWarning: A column-vector y was passed when a 1d array was expected. Please change the shape of y to (n_samples, ), for example using ravel().\n",
            "  y = column_or_1d(y, warn=True)\n"
          ],
          "name": "stderr"
        },
        {
          "output_type": "stream",
          "text": [
            "Finished Training!\n"
          ],
          "name": "stdout"
        }
      ]
    },
    {
      "metadata": {
        "id": "RsiLMxxUX0A2",
        "colab_type": "code",
        "colab": {
          "base_uri": "https://localhost:8080/",
          "height": 34
        },
        "outputId": "5e339a63-f2ec-43d1-8b22-f59b83691a83"
      },
      "cell_type": "code",
      "source": [
        "X_train_sm.shape"
      ],
      "execution_count": 26,
      "outputs": [
        {
          "output_type": "execute_result",
          "data": {
            "text/plain": [
              "(5087, 1598)"
            ]
          },
          "metadata": {
            "tags": []
          },
          "execution_count": 26
        }
      ]
    },
    {
      "metadata": {
        "id": "m6tkiRBmO0-5",
        "colab_type": "code",
        "colab": {
          "base_uri": "https://localhost:8080/",
          "height": 51
        },
        "outputId": "332c1b06-4c60-46dd-995d-cb7bba542a6b"
      },
      "cell_type": "code",
      "source": [
        "#Overfitting\n",
        "s=model.predict(X_train_sm)\n",
        "confusion_matrix(Y_train_sm,s)"
      ],
      "execution_count": 27,
      "outputs": [
        {
          "output_type": "execute_result",
          "data": {
            "text/plain": [
              "array([[5050,    0],\n",
              "       [   0,   37]])"
            ]
          },
          "metadata": {
            "tags": []
          },
          "execution_count": 27
        }
      ]
    },
    {
      "metadata": {
        "id": "CeJ9_h04VHpi",
        "colab_type": "code",
        "colab": {}
      },
      "cell_type": "code",
      "source": [
        "#Now lets test on dataset"
      ],
      "execution_count": 0,
      "outputs": []
    },
    {
      "metadata": {
        "id": "F5XJApEjVV4J",
        "colab_type": "code",
        "colab": {
          "base_uri": "https://localhost:8080/",
          "height": 51
        },
        "outputId": "0e407386-5c5c-43ed-8720-80ba6b1e99ac"
      },
      "cell_type": "code",
      "source": [
        "confusion_matrix(Y_dev, dev_outputs)"
      ],
      "execution_count": 29,
      "outputs": [
        {
          "output_type": "execute_result",
          "data": {
            "text/plain": [
              "array([[561,   4],\n",
              "       [  0,   5]])"
            ]
          },
          "metadata": {
            "tags": []
          },
          "execution_count": 29
        }
      ]
    },
    {
      "metadata": {
        "id": "PyupmZrHVa_5",
        "colab_type": "code",
        "colab": {
          "base_uri": "https://localhost:8080/",
          "height": 34
        },
        "outputId": "d906dcc0-51fb-4b58-b41e-9a3252c61bc4"
      },
      "cell_type": "code",
      "source": [
        "accuracy_score(Y_dev, dev_outputs)"
      ],
      "execution_count": 19,
      "outputs": [
        {
          "output_type": "execute_result",
          "data": {
            "text/plain": [
              "0.9929824561403509"
            ]
          },
          "metadata": {
            "tags": []
          },
          "execution_count": 19
        }
      ]
    },
    {
      "metadata": {
        "id": "_OKDB8X3VqU9",
        "colab_type": "code",
        "colab": {}
      },
      "cell_type": "code",
      "source": [
        "#This accuracy doesn't tell anything because we have only 5 confirmed exoplanet"
      ],
      "execution_count": 0,
      "outputs": []
    },
    {
      "metadata": {
        "id": "8ErLzoMqYNwM",
        "colab_type": "code",
        "colab": {
          "base_uri": "https://localhost:8080/",
          "height": 136
        },
        "outputId": "e3ceb84b-dd00-4fc0-b080-0e8c7a16f5a1"
      },
      "cell_type": "code",
      "source": [
        "print(classification_report(Y_dev, dev_outputs))"
      ],
      "execution_count": 31,
      "outputs": [
        {
          "output_type": "stream",
          "text": [
            "             precision    recall  f1-score   support\n",
            "\n",
            "      False       1.00      0.99      1.00       565\n",
            "       True       0.56      1.00      0.71         5\n",
            "\n",
            "avg / total       1.00      0.99      0.99       570\n",
            "\n"
          ],
          "name": "stdout"
        }
      ]
    },
    {
      "metadata": {
        "id": "vnUNzbRPYOKB",
        "colab_type": "code",
        "colab": {}
      },
      "cell_type": "code",
      "source": [
        "from sklearn.neighbors import KNeighborsClassifier\n",
        "model2 = KNeighborsClassifier(n_neighbors=3)"
      ],
      "execution_count": 0,
      "outputs": []
    },
    {
      "metadata": {
        "id": "cn3ShTbtYzsk",
        "colab_type": "code",
        "colab": {
          "base_uri": "https://localhost:8080/",
          "height": 105
        },
        "outputId": "cab31662-5dcd-4c28-a738-da47875231f3"
      },
      "cell_type": "code",
      "source": [
        "\n",
        "X_train_sm2, Y_train_sm2 = X_train, Y_train\n",
        "\n",
        "# Train\n",
        "print(\"Training...\")\n",
        "model2.fit(X_train_sm2, Y_train_sm2)\n",
        "\n",
        "train_outputs = model2.predict(X_train_sm2)\n",
        "dev_outputs = model2.predict(X_dev)\n",
        "print(\"Finished Training!\")"
      ],
      "execution_count": 33,
      "outputs": [
        {
          "output_type": "stream",
          "text": [
            "Training...\n"
          ],
          "name": "stdout"
        },
        {
          "output_type": "stream",
          "text": [
            "/usr/local/lib/python3.6/dist-packages/ipykernel_launcher.py:6: DataConversionWarning: A column-vector y was passed when a 1d array was expected. Please change the shape of y to (n_samples, ), for example using ravel().\n",
            "  \n"
          ],
          "name": "stderr"
        },
        {
          "output_type": "stream",
          "text": [
            "Finished Training!\n"
          ],
          "name": "stdout"
        }
      ]
    },
    {
      "metadata": {
        "id": "yX1Mf8lvZAYr",
        "colab_type": "code",
        "colab": {
          "base_uri": "https://localhost:8080/",
          "height": 51
        },
        "outputId": "c6b82a0d-ee99-4170-a241-f9b431481a60"
      },
      "cell_type": "code",
      "source": [
        "confusion_matrix(Y_dev, dev_outputs)"
      ],
      "execution_count": 34,
      "outputs": [
        {
          "output_type": "execute_result",
          "data": {
            "text/plain": [
              "array([[565,   0],\n",
              "       [  5,   0]])"
            ]
          },
          "metadata": {
            "tags": []
          },
          "execution_count": 34
        }
      ]
    },
    {
      "metadata": {
        "id": "0fPurwIKZGzj",
        "colab_type": "code",
        "colab": {}
      },
      "cell_type": "code",
      "source": [
        "# Hence linearSVC give better results"
      ],
      "execution_count": 0,
      "outputs": []
    }
  ]
}